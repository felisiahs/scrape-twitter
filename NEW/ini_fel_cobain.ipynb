{
  "nbformat": 4,
  "nbformat_minor": 0,
  "metadata": {
    "kernelspec": {
      "display_name": "Python 3",
      "language": "python",
      "name": "python3"
    },
    "language_info": {
      "codemirror_mode": {
        "name": "ipython",
        "version": 3
      },
      "file_extension": ".py",
      "mimetype": "text/x-python",
      "name": "python",
      "nbconvert_exporter": "python",
      "pygments_lexer": "ipython3",
      "version": "3.6.5"
    },
    "colab": {
      "name": "ini fel cobain.ipynb",
      "provenance": []
    }
  },
  "cells": [
    {
      "cell_type": "markdown",
      "metadata": {
        "id": "agV2LErExhaS",
        "colab_type": "text"
      },
      "source": [
        "## Prediction using ALBERT Models, using Malaya nlp toolkit \n",
        "## further explanation , checkout documentation : https://malaya.readthedocs.io/"
      ]
    },
    {
      "cell_type": "code",
      "metadata": {
        "id": "mnQLFrd7xhV9",
        "colab_type": "code",
        "colab": {}
      },
      "source": [
        "!pip install malaya # install malaya\n",
        "import malaya # import malaya"
      ],
      "execution_count": 0,
      "outputs": []
    },
    {
      "cell_type": "code",
      "metadata": {
        "id": "roi0HHKvxhaW",
        "colab_type": "code",
        "colab": {}
      },
      "source": [
        "malaya.sentiment.available_transformer_model() # list of available models\n",
        "malaya.sentiment.multinomial(validate=True) # ???"
      ],
      "execution_count": 0,
      "outputs": []
    },
    {
      "cell_type": "code",
      "metadata": {
        "id": "Jz5Ey5-66hVr",
        "colab_type": "code",
        "colab": {}
      },
      "source": [
        "# List of text to predict\n",
        "\n",
        "PredictTHIS = [\"grabwheels no, kuda startup yes\" , \n",
        "                \"a sucker for grabwheels\" , \n",
        "                \"We had fatal accident thanks to GrabWheels!\",\"Eh bener grabwheels udah sebanyak ini di bandung ? Semua bisa dipake ? 24 jam ga sih ?\",\n",
        "                \"begal grabwheels\",\n",
        "                \"Dianggap Berbahaya, Dishub DKI Larang GrabWheels di Jalanan\"]"
      ],
      "execution_count": 0,
      "outputs": []
    },
    {
      "cell_type": "code",
      "metadata": {
        "id": "aCwbEnJYxha9",
        "colab_type": "code",
        "colab": {}
      },
      "source": [
        "model = malaya.sentiment.transformer(model = 'albert', size = 'base') # use albert model\n",
        "model.predict_batch(PredictTHIS) # run batch prediction"
      ],
      "execution_count": 0,
      "outputs": []
    }
  ]
}